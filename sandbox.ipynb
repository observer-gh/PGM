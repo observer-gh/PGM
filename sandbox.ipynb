{
 "cells": [
  {
   "cell_type": "code",
   "execution_count": 34,
   "id": "f19196b8",
   "metadata": {},
   "outputs": [],
   "source": [
    "from sklearn.preprocessing import StandardScaler\n",
    "import pandas as pd\n",
    "import numpy as np\n",
    "import pymc as pm\n",
    "import arviz as az\n",
    "\n",
    "\n",
    "# load\n",
    "data = pd.read_csv('./cleaned_data/final_dataset.csv')\n",
    "\n",
    "# simplify to numerical encoding\n",
    "data['result_code'] = data['result'].map(\n",
    "    {'Home Win': 0, 'Draw': 1, 'Away Win': 2})\n",
    "\n",
    "# standardice numeric features (important for convergence)\n",
    "\n",
    "scaler_home = StandardScaler()\n",
    "scaler_away = StandardScaler()\n",
    "features_home = ['home_avg_market_value',\n",
    "                 'home_nationalities', 'home_avg_age', 'home_total_minutes']\n",
    "features_away = ['away_avg_market_value',\n",
    "                 'away_nationalities', 'away_avg_age', 'away_total_minutes']\n",
    "\n",
    "X_home = scaler_home.fit_transform(data[features_home])\n",
    "X_away = scaler_away.fit_transform(data[features_away])\n",
    "\n",
    "# After standardization explicitly clip to ensure numeric stability\n",
    "X_home = np.clip(X_home, -3, 3)\n",
    "X_away = np.clip(X_away, -3, 3)\n",
    "\n",
    "# outcome\n",
    "y = data['result_code'].values"
   ]
  },
  {
   "cell_type": "code",
   "execution_count": 35,
   "id": "e0b1c092",
   "metadata": {},
   "outputs": [
    {
     "name": "stdout",
     "output_type": "stream",
     "text": [
      "X_home stats: -3.0 3.0 0.009212097084674952\n",
      "X_away stats: -3.0 3.0 0.00915566020318918\n",
      "Are there NaNs or Infs?\n",
      "X_home NaNs: 0 Infs: 0\n",
      "X_away NaNs: 0 Infs: 0\n",
      "Outcome distribution: [26891 14285 18429]\n"
     ]
    }
   ],
   "source": [
    "import numpy as np\n",
    "\n",
    "print(\"X_home stats:\", np.min(X_home), np.max(X_home), np.mean(X_home))\n",
    "print(\"X_away stats:\", np.min(X_away), np.max(X_away), np.mean(X_away))\n",
    "\n",
    "print(\"Are there NaNs or Infs?\")\n",
    "print(\"X_home NaNs:\", np.isnan(X_home).sum(), \"Infs:\", np.isinf(X_home).sum())\n",
    "print(\"X_away NaNs:\", np.isnan(X_away).sum(), \"Infs:\", np.isinf(X_away).sum())\n",
    "\n",
    "print(\"Outcome distribution:\", np.bincount(y))"
   ]
  },
  {
   "cell_type": "code",
   "execution_count": null,
   "id": "f02c5a02",
   "metadata": {},
   "outputs": [
    {
     "name": "stderr",
     "output_type": "stream",
     "text": [
      "Initializing NUTS using adapt_diag...\n",
      "Multiprocess sampling (4 chains in 4 jobs)\n",
      "NUTS: [weights_home, weights_away, bias]\n"
     ]
    },
    {
     "data": {
      "text/html": [
       "<pre style=\"white-space:pre;overflow-x:auto;line-height:normal;font-family:Menlo,'DejaVu Sans Mono',consolas,'Courier New',monospace\">/Users/observer/github/PGM/.venv/lib/python3.13/site-packages/rich/live.py:231: UserWarning: install \"ipywidgets\" \n",
       "for Jupyter support\n",
       "  warnings.warn('install \"ipywidgets\" for Jupyter support')\n",
       "</pre>\n"
      ],
      "text/plain": [
       "/Users/observer/github/PGM/.venv/lib/python3.13/site-packages/rich/live.py:231: UserWarning: install \"ipywidgets\" \n",
       "for Jupyter support\n",
       "  warnings.warn('install \"ipywidgets\" for Jupyter support')\n"
      ]
     },
     "metadata": {},
     "output_type": "display_data"
    },
    {
     "data": {
      "text/html": [
       "<pre style=\"white-space:pre;overflow-x:auto;line-height:normal;font-family:Menlo,'DejaVu Sans Mono',consolas,'Courier New',monospace\"></pre>\n"
      ],
      "text/plain": []
     },
     "metadata": {},
     "output_type": "display_data"
    },
    {
     "ename": "ParallelSamplingError",
     "evalue": "Chain 2 failed with: Bad initial energy: SamplerWarning(kind=<WarningType.BAD_ENERGY: 8>, message='Bad initial energy, check any log probabilities that are inf or -inf, nan or very small:\\n[-inf]\\n.Try model.debug() to identify parametrization problems.', level='critical', step=0, exec_info=None, extra=None, divergence_point_source=None, divergence_point_dest=None, divergence_info=None)",
     "output_type": "error",
     "traceback": [
      "\u001b[31m---------------------------------------------------------------------------\u001b[39m",
      "\u001b[31mRemoteTraceback\u001b[39m                           Traceback (most recent call last)",
      "\u001b[31mRemoteTraceback\u001b[39m: \n\"\"\"\nTraceback (most recent call last):\n  File \"/Users/observer/github/PGM/.venv/lib/python3.13/site-packages/pymc/sampling/parallel.py\", line 211, in _start_loop\n    point, stats = self._step_method.step(self._point)\n                   ~~~~~~~~~~~~~~~~~~~~~~^^^^^^^^^^^^^\n  File \"/Users/observer/github/PGM/.venv/lib/python3.13/site-packages/pymc/step_methods/arraystep.py\", line 116, in step\n    apoint, stats = self.astep(q)\n                    ~~~~~~~~~~^^^\n  File \"/Users/observer/github/PGM/.venv/lib/python3.13/site-packages/pymc/step_methods/hmc/base_hmc.py\", line 223, in astep\n    raise SamplingError(f\"Bad initial energy: {warning}\")\npymc.exceptions.SamplingError: Bad initial energy: SamplerWarning(kind=<WarningType.BAD_ENERGY: 8>, message='Bad initial energy, check any log probabilities that are inf or -inf, nan or very small:\\n[-inf]\\n.Try model.debug() to identify parametrization problems.', level='critical', step=0, exec_info=None, extra=None, divergence_point_source=None, divergence_point_dest=None, divergence_info=None)\n\"\"\"",
      "\nThe above exception was the direct cause of the following exception:\n",
      "\u001b[31mSamplingError\u001b[39m                             Traceback (most recent call last)",
      "\u001b[31mSamplingError\u001b[39m: Bad initial energy: SamplerWarning(kind=<WarningType.BAD_ENERGY: 8>, message='Bad initial energy, check any log probabilities that are inf or -inf, nan or very small:\\n[-inf]\\n.Try model.debug() to identify parametrization problems.', level='critical', step=0, exec_info=None, extra=None, divergence_point_source=None, divergence_point_dest=None, divergence_info=None)",
      "\nThe above exception was the direct cause of the following exception:\n",
      "\u001b[31mParallelSamplingError\u001b[39m                     Traceback (most recent call last)",
      "\u001b[36mCell\u001b[39m\u001b[36m \u001b[39m\u001b[32mIn[36]\u001b[39m\u001b[32m, line 39\u001b[39m\n\u001b[32m     37\u001b[39m \u001b[38;5;66;03m# Explicitly unindented sampling block:\u001b[39;00m\n\u001b[32m     38\u001b[39m \u001b[38;5;28;01mwith\u001b[39;00m model:\n\u001b[32m---> \u001b[39m\u001b[32m39\u001b[39m     trace = \u001b[43mpm\u001b[49m\u001b[43m.\u001b[49m\u001b[43msample\u001b[49m\u001b[43m(\u001b[49m\u001b[32;43m500\u001b[39;49m\u001b[43m,\u001b[49m\u001b[43m \u001b[49m\u001b[43mtune\u001b[49m\u001b[43m=\u001b[49m\u001b[32;43m500\u001b[39;49m\u001b[43m,\u001b[49m\u001b[43m \u001b[49m\u001b[43mtarget_accept\u001b[49m\u001b[43m=\u001b[49m\u001b[32;43m0.95\u001b[39;49m\u001b[43m,\u001b[49m\u001b[43m \u001b[49m\u001b[43minit\u001b[49m\u001b[43m=\u001b[49m\u001b[33;43m'\u001b[39;49m\u001b[33;43madapt_diag\u001b[39;49m\u001b[33;43m'\u001b[39;49m\u001b[43m)\u001b[49m\n\u001b[32m     41\u001b[39m az.plot_trace(trace)\n\u001b[32m     42\u001b[39m az.summary(trace)\n",
      "\u001b[36mFile \u001b[39m\u001b[32m~/github/PGM/.venv/lib/python3.13/site-packages/pymc/sampling/mcmc.py:935\u001b[39m, in \u001b[36msample\u001b[39m\u001b[34m(draws, tune, chains, cores, random_seed, progressbar, progressbar_theme, step, var_names, nuts_sampler, initvals, init, jitter_max_retries, n_init, trace, discard_tuned_samples, compute_convergence_checks, keep_warning_stat, return_inferencedata, idata_kwargs, nuts_sampler_kwargs, callback, mp_ctx, blas_cores, model, compile_kwargs, **kwargs)\u001b[39m\n\u001b[32m    933\u001b[39m _print_step_hierarchy(step)\n\u001b[32m    934\u001b[39m \u001b[38;5;28;01mtry\u001b[39;00m:\n\u001b[32m--> \u001b[39m\u001b[32m935\u001b[39m     \u001b[43m_mp_sample\u001b[49m\u001b[43m(\u001b[49m\u001b[43m*\u001b[49m\u001b[43m*\u001b[49m\u001b[43msample_args\u001b[49m\u001b[43m,\u001b[49m\u001b[43m \u001b[49m\u001b[43m*\u001b[49m\u001b[43m*\u001b[49m\u001b[43mparallel_args\u001b[49m\u001b[43m)\u001b[49m\n\u001b[32m    936\u001b[39m \u001b[38;5;28;01mexcept\u001b[39;00m pickle.PickleError:\n\u001b[32m    937\u001b[39m     _log.warning(\u001b[33m\"\u001b[39m\u001b[33mCould not pickle model, sampling singlethreaded.\u001b[39m\u001b[33m\"\u001b[39m)\n",
      "\u001b[36mFile \u001b[39m\u001b[32m~/github/PGM/.venv/lib/python3.13/site-packages/pymc/sampling/mcmc.py:1411\u001b[39m, in \u001b[36m_mp_sample\u001b[39m\u001b[34m(draws, tune, step, chains, cores, rngs, start, progressbar, progressbar_theme, traces, model, callback, blas_cores, mp_ctx, **kwargs)\u001b[39m\n\u001b[32m   1409\u001b[39m \u001b[38;5;28;01mtry\u001b[39;00m:\n\u001b[32m   1410\u001b[39m     \u001b[38;5;28;01mwith\u001b[39;00m sampler:\n\u001b[32m-> \u001b[39m\u001b[32m1411\u001b[39m \u001b[43m        \u001b[49m\u001b[38;5;28;43;01mfor\u001b[39;49;00m\u001b[43m \u001b[49m\u001b[43mdraw\u001b[49m\u001b[43m \u001b[49m\u001b[38;5;129;43;01min\u001b[39;49;00m\u001b[43m \u001b[49m\u001b[43msampler\u001b[49m\u001b[43m:\u001b[49m\n\u001b[32m   1412\u001b[39m \u001b[43m            \u001b[49m\u001b[43mstrace\u001b[49m\u001b[43m \u001b[49m\u001b[43m=\u001b[49m\u001b[43m \u001b[49m\u001b[43mtraces\u001b[49m\u001b[43m[\u001b[49m\u001b[43mdraw\u001b[49m\u001b[43m.\u001b[49m\u001b[43mchain\u001b[49m\u001b[43m]\u001b[49m\n\u001b[32m   1413\u001b[39m \u001b[43m            \u001b[49m\u001b[38;5;28;43;01mif\u001b[39;49;00m\u001b[43m \u001b[49m\u001b[38;5;129;43;01mnot\u001b[39;49;00m\u001b[43m \u001b[49m\u001b[43mzarr_recording\u001b[49m\u001b[43m:\u001b[49m\n\u001b[32m   1414\u001b[39m \u001b[43m                \u001b[49m\u001b[38;5;66;43;03m# Zarr recording happens in each process\u001b[39;49;00m\n",
      "\u001b[36mFile \u001b[39m\u001b[32m~/github/PGM/.venv/lib/python3.13/site-packages/pymc/sampling/parallel.py:510\u001b[39m, in \u001b[36mParallelSampler.__iter__\u001b[39m\u001b[34m(self)\u001b[39m\n\u001b[32m    508\u001b[39m \u001b[38;5;28;01mwith\u001b[39;00m \u001b[38;5;28mself\u001b[39m._progress:\n\u001b[32m    509\u001b[39m     \u001b[38;5;28;01mwhile\u001b[39;00m \u001b[38;5;28mself\u001b[39m._active:\n\u001b[32m--> \u001b[39m\u001b[32m510\u001b[39m         draw = \u001b[43mProcessAdapter\u001b[49m\u001b[43m.\u001b[49m\u001b[43mrecv_draw\u001b[49m\u001b[43m(\u001b[49m\u001b[38;5;28;43mself\u001b[39;49m\u001b[43m.\u001b[49m\u001b[43m_active\u001b[49m\u001b[43m)\u001b[49m\n\u001b[32m    511\u001b[39m         proc, is_last, draw, tuning, stats = draw\n\u001b[32m    513\u001b[39m         \u001b[38;5;28mself\u001b[39m._progress.update(\n\u001b[32m    514\u001b[39m             chain_idx=proc.chain, is_last=is_last, draw=draw, tuning=tuning, stats=stats\n\u001b[32m    515\u001b[39m         )\n",
      "\u001b[36mFile \u001b[39m\u001b[32m~/github/PGM/.venv/lib/python3.13/site-packages/pymc/sampling/parallel.py:381\u001b[39m, in \u001b[36mProcessAdapter.recv_draw\u001b[39m\u001b[34m(processes, timeout)\u001b[39m\n\u001b[32m    379\u001b[39m     \u001b[38;5;28;01melse\u001b[39;00m:\n\u001b[32m    380\u001b[39m         error = \u001b[38;5;167;01mRuntimeError\u001b[39;00m(\u001b[33mf\u001b[39m\u001b[33m\"\u001b[39m\u001b[33mChain \u001b[39m\u001b[38;5;132;01m{\u001b[39;00mproc.chain\u001b[38;5;132;01m}\u001b[39;00m\u001b[33m failed.\u001b[39m\u001b[33m\"\u001b[39m)\n\u001b[32m--> \u001b[39m\u001b[32m381\u001b[39m     \u001b[38;5;28;01mraise\u001b[39;00m error \u001b[38;5;28;01mfrom\u001b[39;00m\u001b[38;5;250m \u001b[39m\u001b[34;01mold_error\u001b[39;00m\n\u001b[32m    382\u001b[39m \u001b[38;5;28;01melif\u001b[39;00m msg[\u001b[32m0\u001b[39m] == \u001b[33m\"\u001b[39m\u001b[33mwriting_done\u001b[39m\u001b[33m\"\u001b[39m:\n\u001b[32m    383\u001b[39m     proc._readable = \u001b[38;5;28;01mTrue\u001b[39;00m\n",
      "\u001b[31mParallelSamplingError\u001b[39m: Chain 2 failed with: Bad initial energy: SamplerWarning(kind=<WarningType.BAD_ENERGY: 8>, message='Bad initial energy, check any log probabilities that are inf or -inf, nan or very small:\\n[-inf]\\n.Try model.debug() to identify parametrization problems.', level='critical', step=0, exec_info=None, extra=None, divergence_point_source=None, divergence_point_dest=None, divergence_info=None)"
     ]
    }
   ],
   "source": [
    "# define model\n",
    "with pm.Model() as model:\n",
    "    # Priors for team feature weights\n",
    "    weights_home = pm.Normal('weights_home', mu=0,\n",
    "                             sigma=0.1, shape=X_home.shape[1])\n",
    "    weights_away = pm.Normal('weights_away', mu=0,\n",
    "                             sigma=0.1, shape=X_away.shape[1])\n",
    "\n",
    "    # Latent team strengths\n",
    "    strength_home = pm.math.dot(X_home, weights_home)\n",
    "    strength_away = pm.math.dot(X_away, weights_away)\n",
    "\n",
    "    # reshape for safe stacking\n",
    "    strength_home_exp = strength_home.dimshuffle(0, 'x')\n",
    "    strength_away_exp = strength_away.dimshuffle(0, 'x')\n",
    "\n",
    "    # Bias terms for match results (home, draw, away)\n",
    "    bias = pm.Normal('bias', mu=0, sigma=0.1, shape=3)\n",
    "\n",
    "    # Explicitly define logits in numerically stable form\n",
    "    logits = pm.math.concatenate([\n",
    "        strength_home_exp + bias[0],\n",
    "        (strength_home_exp + strength_away_exp) / 2 + bias[1],\n",
    "        strength_away_exp + bias[2]\n",
    "    ], axis=1)\n",
    "\n",
    "    # Safe softmax with clipping\n",
    "    eps = 1e-8\n",
    "    outcome_probs = pm.Deterministic(\n",
    "        'outcome_probs',\n",
    "        pm.math.clip(pm.math.softmax(logits), eps, 1-eps)\n",
    "    )\n",
    "\n",
    "    # Observed categorical outcomes\n",
    "    outcome_obs = pm.Categorical('outcome_obs', p=outcome_probs, observed=y)\n",
    "\n",
    "# Explicit stable initial values:\n",
    "safe_init = {\n",
    "    'weights_home': np.zeros(X_home.shape[1]),\n",
    "    'weights_away': np.zeros(X_away.shape[1]),\n",
    "    'bias': np.zeros(3)\n",
    "}\n",
    "\n",
    "# Explicitly unindented sampling block:\n",
    "with model:\n",
    "    trace = pm.sample(500, tune=500, target_accept=0.95,\n",
    "                      init='adapt_diag', initvals=safe_init)\n",
    "\n",
    "az.plot_trace(trace)\n",
    "az.summary(trace)"
   ]
  },
  {
   "cell_type": "code",
   "execution_count": null,
   "id": "7a421989",
   "metadata": {},
   "outputs": [
    {
     "name": "stderr",
     "output_type": "stream",
     "text": [
      "/Users/observer/github/PGM/.venv/lib/python3.13/site-packages/sklearn/utils/validation.py:2739: UserWarning: X does not have valid feature names, but StandardScaler was fitted with feature names\n",
      "  warnings.warn(\n",
      "/Users/observer/github/PGM/.venv/lib/python3.13/site-packages/sklearn/utils/validation.py:2739: UserWarning: X does not have valid feature names, but StandardScaler was fitted with feature names\n",
      "  warnings.warn(\n"
     ]
    },
    {
     "ename": "NameError",
     "evalue": "name 'trace' is not defined",
     "output_type": "error",
     "traceback": [
      "\u001b[31m---------------------------------------------------------------------------\u001b[39m",
      "\u001b[31mNameError\u001b[39m                                 Traceback (most recent call last)",
      "\u001b[36mCell\u001b[39m\u001b[36m \u001b[39m\u001b[32mIn[7]\u001b[39m\u001b[32m, line 7\u001b[39m\n\u001b[32m      3\u001b[39m new_away = scaler.transform([[\u001b[32m2800000\u001b[39m, \u001b[32m7\u001b[39m, \u001b[32m25\u001b[39m, \u001b[32m990\u001b[39m]])\n\u001b[32m      5\u001b[39m \u001b[38;5;28;01mwith\u001b[39;00m model:\n\u001b[32m      6\u001b[39m     posterior_predictive = pm.sample_posterior_predictive(\n\u001b[32m----> \u001b[39m\u001b[32m7\u001b[39m         \u001b[43mtrace\u001b[49m,\n\u001b[32m      8\u001b[39m         var_names=[\u001b[33m'\u001b[39m\u001b[33mweights_home\u001b[39m\u001b[33m'\u001b[39m, \u001b[33m'\u001b[39m\u001b[33mweights_away\u001b[39m\u001b[33m'\u001b[39m, \u001b[33m'\u001b[39m\u001b[33mbias\u001b[39m\u001b[33m'\u001b[39m]\n\u001b[32m      9\u001b[39m     )\n\u001b[32m     11\u001b[39m \u001b[38;5;66;03m# Compute strengths\u001b[39;00m\n\u001b[32m     12\u001b[39m strength_home_pred = np.dot(new_home, posterior_predictive[\u001b[33m'\u001b[39m\u001b[33mweights_home\u001b[39m\u001b[33m'\u001b[39m].T)\n",
      "\u001b[31mNameError\u001b[39m: name 'trace' is not defined"
     ]
    }
   ],
   "source": [
    "# running inference\n",
    "# Example new match features (standardized exactly like training data)\n",
    "new_home = scaler.transform([[3000000, 8, 26, 990]])\n",
    "new_away = scaler.transform([[2800000, 7, 25, 990]])\n",
    "\n",
    "with model:\n",
    "    posterior_predictive = pm.sample_posterior_predictive(\n",
    "        trace,\n",
    "        var_names=['weights_home', 'weights_away', 'bias']\n",
    "    )\n",
    "\n",
    "# Compute strengths\n",
    "strength_home_pred = np.dot(new_home, posterior_predictive['weights_home'].T)\n",
    "strength_away_pred = np.dot(new_away, posterior_predictive['weights_away'].T)\n",
    "\n",
    "# Compute outcome probabilities clearly\n",
    "logits = np.vstack([\n",
    "    strength_home_pred + posterior_predictive['bias'][:, 0],\n",
    "    (strength_home_pred + strength_away_pred) /\n",
    "    2 + posterior_predictive['bias'][:, 1],\n",
    "    strength_away_pred + posterior_predictive['bias'][:, 2]\n",
    "])\n",
    "\n",
    "outcome_prob_pred = np.exp(logits) / np.sum(np.exp(logits), axis=0)\n",
    "\n",
    "# Clear probabilities for the match outcome:\n",
    "mean_outcome_probs = np.mean(outcome_prob_pred, axis=1)\n",
    "print(\"Home win probability:\", mean_outcome_probs[0])\n",
    "print(\"Draw probability:\", mean_outcome_probs[1])\n",
    "print(\"Away win probability:\", mean_outcome_probs[2])"
   ]
  },
  {
   "cell_type": "code",
   "execution_count": null,
   "id": "94a6d5d7",
   "metadata": {},
   "outputs": [],
   "source": []
  }
 ],
 "metadata": {
  "kernelspec": {
   "display_name": ".venv",
   "language": "python",
   "name": "python3"
  },
  "language_info": {
   "codemirror_mode": {
    "name": "ipython",
    "version": 3
   },
   "file_extension": ".py",
   "mimetype": "text/x-python",
   "name": "python",
   "nbconvert_exporter": "python",
   "pygments_lexer": "ipython3",
   "version": "3.13.2"
  }
 },
 "nbformat": 4,
 "nbformat_minor": 5
}
